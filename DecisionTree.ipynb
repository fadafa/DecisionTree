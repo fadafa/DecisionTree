{
  "nbformat": 4,
  "nbformat_minor": 0,
  "metadata": {
    "colab": {
      "name": "DecisionTree.ipynb",
      "provenance": [],
      "toc_visible": true
    },
    "kernelspec": {
      "name": "python3",
      "display_name": "Python 3"
    },
    "language_info": {
      "name": "python"
    }
  },
  "cells": [
    {
      "cell_type": "code",
      "metadata": {
        "id": "eyvZngxzqxu3"
      },
      "source": [
        "import pandas as pd \n",
        "import numpy as np\n",
        "from sklearn.tree import DecisionTreeRegressor as dt\n",
        "from sklearn.metrics import mean_absolute_error as mae\n",
        "df = pd.read_csv(\"Loan Data.csv\")"
      ],
      "execution_count": null,
      "outputs": []
    },
    {
      "cell_type": "code",
      "metadata": {
        "colab": {
          "base_uri": "https://localhost:8080/",
          "height": 551
        },
        "id": "zhSJpCD6tmlH",
        "outputId": "4fec4dcb-f47c-4f60-947b-07c1e609d64b"
      },
      "source": [
        "df.info()\n",
        "df.describe()\n",
        "df.head(5)"
      ],
      "execution_count": null,
      "outputs": [
        {
          "output_type": "stream",
          "text": [
            "<class 'pandas.core.frame.DataFrame'>\n",
            "RangeIndex: 4595 entries, 0 to 4594\n",
            "Data columns (total 13 columns):\n",
            " #   Column                  Non-Null Count  Dtype  \n",
            "---  ------                  --------------  -----  \n",
            " 0   LoanNumber              4595 non-null   int64  \n",
            " 1   GLPrincipalBalance      4595 non-null   float64\n",
            " 2   APR                     4595 non-null   float64\n",
            " 3   AmortizedPaymentAmount  4595 non-null   float64\n",
            " 4   DaysPastDue             4595 non-null   int64  \n",
            " 5   OriginalValue           4595 non-null   float64\n",
            " 6   CreditScore             4595 non-null   int64  \n",
            " 7   Term                    4595 non-null   int64  \n",
            " 8   Mo_Term                 4595 non-null   int64  \n",
            " 9   Mo_Payment              4595 non-null   float64\n",
            " 10  Rem_Term                4595 non-null   int64  \n",
            " 11  Seasoning               4595 non-null   float64\n",
            " 12  Bad                     4595 non-null   int64  \n",
            "dtypes: float64(6), int64(7)\n",
            "memory usage: 466.8 KB\n"
          ],
          "name": "stdout"
        },
        {
          "output_type": "execute_result",
          "data": {
            "text/html": [
              "<div>\n",
              "<style scoped>\n",
              "    .dataframe tbody tr th:only-of-type {\n",
              "        vertical-align: middle;\n",
              "    }\n",
              "\n",
              "    .dataframe tbody tr th {\n",
              "        vertical-align: top;\n",
              "    }\n",
              "\n",
              "    .dataframe thead th {\n",
              "        text-align: right;\n",
              "    }\n",
              "</style>\n",
              "<table border=\"1\" class=\"dataframe\">\n",
              "  <thead>\n",
              "    <tr style=\"text-align: right;\">\n",
              "      <th></th>\n",
              "      <th>LoanNumber</th>\n",
              "      <th>GLPrincipalBalance</th>\n",
              "      <th>APR</th>\n",
              "      <th>AmortizedPaymentAmount</th>\n",
              "      <th>DaysPastDue</th>\n",
              "      <th>OriginalValue</th>\n",
              "      <th>CreditScore</th>\n",
              "      <th>Term</th>\n",
              "      <th>Mo_Term</th>\n",
              "      <th>Mo_Payment</th>\n",
              "      <th>Rem_Term</th>\n",
              "      <th>Seasoning</th>\n",
              "      <th>Bad</th>\n",
              "    </tr>\n",
              "  </thead>\n",
              "  <tbody>\n",
              "    <tr>\n",
              "      <th>0</th>\n",
              "      <td>1</td>\n",
              "      <td>6499.56</td>\n",
              "      <td>24.00</td>\n",
              "      <td>484.42</td>\n",
              "      <td>1433</td>\n",
              "      <td>10125.0</td>\n",
              "      <td>578</td>\n",
              "      <td>60</td>\n",
              "      <td>60</td>\n",
              "      <td>484.42</td>\n",
              "      <td>16</td>\n",
              "      <td>0.73</td>\n",
              "      <td>1</td>\n",
              "    </tr>\n",
              "    <tr>\n",
              "      <th>1</th>\n",
              "      <td>3</td>\n",
              "      <td>3599.79</td>\n",
              "      <td>24.00</td>\n",
              "      <td>365.07</td>\n",
              "      <td>1342</td>\n",
              "      <td>6400.0</td>\n",
              "      <td>598</td>\n",
              "      <td>60</td>\n",
              "      <td>62</td>\n",
              "      <td>365.07</td>\n",
              "      <td>11</td>\n",
              "      <td>0.82</td>\n",
              "      <td>1</td>\n",
              "    </tr>\n",
              "    <tr>\n",
              "      <th>2</th>\n",
              "      <td>4</td>\n",
              "      <td>2451.58</td>\n",
              "      <td>17.95</td>\n",
              "      <td>430.37</td>\n",
              "      <td>1115</td>\n",
              "      <td>13275.0</td>\n",
              "      <td>573</td>\n",
              "      <td>60</td>\n",
              "      <td>60</td>\n",
              "      <td>430.37</td>\n",
              "      <td>6</td>\n",
              "      <td>0.90</td>\n",
              "      <td>1</td>\n",
              "    </tr>\n",
              "    <tr>\n",
              "      <th>3</th>\n",
              "      <td>5</td>\n",
              "      <td>3594.28</td>\n",
              "      <td>17.99</td>\n",
              "      <td>369.48</td>\n",
              "      <td>65</td>\n",
              "      <td>9250.0</td>\n",
              "      <td>598</td>\n",
              "      <td>72</td>\n",
              "      <td>60</td>\n",
              "      <td>369.48</td>\n",
              "      <td>11</td>\n",
              "      <td>0.82</td>\n",
              "      <td>0</td>\n",
              "    </tr>\n",
              "    <tr>\n",
              "      <th>4</th>\n",
              "      <td>6</td>\n",
              "      <td>3595.07</td>\n",
              "      <td>17.95</td>\n",
              "      <td>655.06</td>\n",
              "      <td>101</td>\n",
              "      <td>18800.0</td>\n",
              "      <td>550</td>\n",
              "      <td>76</td>\n",
              "      <td>72</td>\n",
              "      <td>655.06</td>\n",
              "      <td>6</td>\n",
              "      <td>0.92</td>\n",
              "      <td>0</td>\n",
              "    </tr>\n",
              "  </tbody>\n",
              "</table>\n",
              "</div>"
            ],
            "text/plain": [
              "   LoanNumber  GLPrincipalBalance    APR  ...  Rem_Term  Seasoning  Bad\n",
              "0           1             6499.56  24.00  ...        16       0.73    1\n",
              "1           3             3599.79  24.00  ...        11       0.82    1\n",
              "2           4             2451.58  17.95  ...         6       0.90    1\n",
              "3           5             3594.28  17.99  ...        11       0.82    0\n",
              "4           6             3595.07  17.95  ...         6       0.92    0\n",
              "\n",
              "[5 rows x 13 columns]"
            ]
          },
          "metadata": {
            "tags": []
          },
          "execution_count": 102
        }
      ]
    },
    {
      "cell_type": "code",
      "metadata": {
        "id": "-OOOlprzuPOy"
      },
      "source": [
        "col=df.columns\n",
        "x_col=col[:-2]\n",
        "x=df[x_col]\n",
        "y=df.Bad"
      ],
      "execution_count": null,
      "outputs": []
    },
    {
      "cell_type": "code",
      "metadata": {
        "colab": {
          "base_uri": "https://localhost:8080/"
        },
        "id": "nB9nbmZjwE4V",
        "outputId": "c7d5997e-24c4-4e5f-ab1c-b480f407ae2a"
      },
      "source": [
        "dt_model=dt(random_state=1)\n",
        "dt_model.fit(x,y)\n",
        "predictions = dt_model.predict(x.head())\n",
        "predictions"
      ],
      "execution_count": null,
      "outputs": [
        {
          "output_type": "execute_result",
          "data": {
            "text/plain": [
              "array([1., 1., 1., 0., 0.])"
            ]
          },
          "metadata": {
            "tags": []
          },
          "execution_count": 104
        }
      ]
    },
    {
      "cell_type": "code",
      "metadata": {
        "colab": {
          "base_uri": "https://localhost:8080/"
        },
        "id": "dApV2nJc19is",
        "outputId": "804fe5a1-7f92-4dd0-aaa4-66b099c2f1c7"
      },
      "source": [
        "loss=mae(y[:5], predictions)\n",
        "print(f\"Model Error is {loss}\")"
      ],
      "execution_count": null,
      "outputs": [
        {
          "output_type": "stream",
          "text": [
            "Model Error is 0.0\n"
          ],
          "name": "stdout"
        }
      ]
    },
    {
      "cell_type": "markdown",
      "metadata": {
        "id": "PQPWR61ntCVG"
      },
      "source": [
        "# 新段落"
      ]
    }
  ]
}